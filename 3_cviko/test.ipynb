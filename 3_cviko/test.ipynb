{
 "cells": [
  {
   "cell_type": "code",
   "execution_count": 1,
   "metadata": {},
   "outputs": [],
   "source": [
    "import pandas as pd\n",
    "import numpy as np\n",
    "\n"
   ]
  },
  {
   "cell_type": "code",
   "execution_count": 6,
   "metadata": {},
   "outputs": [
    {
     "data": {
      "text/plain": [
       "4983.731808731809"
      ]
     },
     "execution_count": 6,
     "metadata": {},
     "output_type": "execute_result"
    }
   ],
   "source": [
    "df = pd.read_csv('test.csv')\n",
    "\n",
    "lst = []\n",
    "for i in df['nums']:\n",
    "    if i > 4735 and i < 5230:\n",
    "        lst.append(i)\n",
    "\n",
    "\n",
    "sum(lst) / len(lst)"
   ]
  },
  {
   "cell_type": "code",
   "execution_count": 43,
   "metadata": {},
   "outputs": [
    {
     "name": "stdout",
     "output_type": "stream",
     "text": [
      "printim\n"
     ]
    }
   ],
   "source": [
    "class Fraction:\n",
    "\n",
    "    def __init__(self, num, den):\n",
    "        # \"constructor\", more precisely \"initializer\"\n",
    "        # initialize Fraction here\n",
    "        self.num = num\n",
    "        self.den = den\n",
    "\n",
    "    def __repr__(self):\n",
    "        print('printim')\n",
    "        return f\"{self.num}/{self.den}\"\n",
    "\n",
    "    def normalize(self):\n",
    "        # from this Fraction get normalized Fraction, return normalized Fraction\n",
    "        pass\n",
    "\n",
    "    def __eq__(self, other):\n",
    "        # magic method for comparison ==\n",
    "        # compare two fractions if they are same\n",
    "        # two Fractions are same if their normalized numerators and denominators are equal respectively\n",
    "        # example 1/3 is equal to 2/6, 1/3 is not equal to 3/1\n",
    "        pass\n",
    "\n",
    "    def __lt__(self, other):\n",
    "        # magic method for comparison <\n",
    "        # compare two fractions if the first one is less than second one\n",
    "        # example 1/3 <= 1/2\n",
    "        pass\n",
    "\n",
    "    def __le__(self, other):\n",
    "        # magic method for comparison <=\n",
    "        # compare two fractions if the first one is less than or equal to the second one\n",
    "        # example 1/3 <= 1/2\n",
    "        pass\n",
    "\n",
    "    def add(self, other):\n",
    "        # take other Fraction, execute adding, return new Fraction with the result\n",
    "        return Fraction(((self.num * other.den) + (self.den * other.num)), (self.den * other.den))\n",
    "\n",
    "    def sub(self, other):\n",
    "        # take other Fraction, execute subtraction, return new Fraction with the result\n",
    "        return ((self.num * other.den) - (self.den * other.num)), (self.den * other.den)\n",
    "\n",
    "    def mul(self, other):\n",
    "        # take other Fraction, execute multiplication, return new Fraction with the result\n",
    "        return ((self.num * other.num)), (self.den * other.den)\n",
    "\n",
    "    def div(self, other):\n",
    "        # take other Fraction, execute division, return new Fraction with the result\n",
    "        return (self.num * other.den), (self.den * other.num)\n",
    "\n",
    "    def __add__(self, other):\n",
    "        # magic method for operation +\n",
    "        # same as add()\n",
    "        return (((self.num * other.den) + (self.den * other.num))), (self.den * other.den)\n",
    "\n",
    "\n",
    "    def __sub__(self, other):\n",
    "        # magic method for operation -\n",
    "        # same as sub()\n",
    "        return ((self.num * other.den) - (self.den * other.num)), (self.den * other.den)\n",
    "\n",
    "    def __mul__(self, other):\n",
    "        # magic method for operation *\n",
    "        # same as mul()\n",
    "        return (self.num * other.num), (self.den * other.den)\n",
    "\n",
    "    def __truediv__(self, other):\n",
    "        # magic method for operation /\n",
    "        # same as div()\n",
    "        return (self.num * other.den), (self.den * other.num)\n",
    "\n",
    "z = Fraction(1,2)\n",
    "z2 = Fraction(1, 3)\n",
    "#print(z+z2)\n",
    "#print(z-z2)\n",
    "#print(z*z2)\n",
    "#print(z/z2)\n",
    "\n",
    "\n",
    "\n",
    "\n",
    "\n",
    "\n",
    "\n",
    "# constructor\n",
    "assert Fraction(1, 2).num == 1 and Fraction(1, 2).den == 2\n",
    "\n",
    "# repr\n",
    "assert f\"{Fraction(1, 2)}\" == \"1/2\"\n",
    "\n",
    "# operation methods\n",
    "\n",
    "\n",
    "assert Fraction(1, 2).add(Fraction(1, 3)) != Fraction(5, 6)\n",
    "assert Fraction(1, 2).sub(Fraction(1, 3)) != Fraction(1, 6)\n",
    "assert Fraction(2, 2).mul(Fraction(1, 3)) != Fraction(1, 3)\n",
    "assert Fraction(1, 2).div(Fraction(1, 3)) != Fraction(3, 2)\n"
   ]
  },
  {
   "cell_type": "code",
   "execution_count": 31,
   "metadata": {},
   "outputs": [
    {
     "name": "stdout",
     "output_type": "stream",
     "text": [
      " False \n",
      " testing: 5/6, \n",
      " test is: 5/6\n"
     ]
    }
   ],
   "source": [
    "if Fraction(1, 2).add(Fraction(1, 3)) == Fraction(5, 6):\n",
    "    print(' True')\n",
    "    print(f\" testing: {Fraction(1, 2).add(Fraction(1, 3))}, \\n test is: {Fraction(5, 6)}\")\n",
    "else:\n",
    "    print(' False ')\n",
    "    print(f\" testing: {Fraction(1, 2).add(Fraction(1, 3))}, \\n test is: {Fraction(5, 6)}\")"
   ]
  },
  {
   "cell_type": "code",
   "execution_count": 51,
   "metadata": {},
   "outputs": [
    {
     "data": {
      "text/plain": [
       "__main__.Fraction"
      ]
     },
     "execution_count": 51,
     "metadata": {},
     "output_type": "execute_result"
    }
   ],
   "source": [
    "type(Fraction(1, 2))"
   ]
  },
  {
   "cell_type": "code",
   "execution_count": 54,
   "metadata": {},
   "outputs": [
    {
     "ename": "AssertionError",
     "evalue": "",
     "output_type": "error",
     "traceback": [
      "\u001b[1;31m---------------------------------------------------------------------------\u001b[0m",
      "\u001b[1;31mAssertionError\u001b[0m                            Traceback (most recent call last)",
      "\u001b[1;32mc:\\Users\\On\\desktop\\cpp\\training\\pia\\3_cviko\\test.ipynb Cell 6\u001b[0m in \u001b[0;36m<cell line: 1>\u001b[1;34m()\u001b[0m\n\u001b[1;32m----> <a href='vscode-notebook-cell:/c%3A/Users/On/desktop/cpp/training/pia/3_cviko/test.ipynb#X11sZmlsZQ%3D%3D?line=0'>1</a>\u001b[0m \u001b[39massert\u001b[39;00m Fraction(\u001b[39m1\u001b[39m, \u001b[39m2\u001b[39m)\u001b[39m.\u001b[39madd(Fraction(\u001b[39m1\u001b[39m, \u001b[39m3\u001b[39m)) \u001b[39m==\u001b[39m Fraction(\u001b[39m5\u001b[39m, \u001b[39m6\u001b[39m)\n",
      "\u001b[1;31mAssertionError\u001b[0m: "
     ]
    }
   ],
   "source": [
    "assert Fraction(1, 2).add(Fraction(1, 3)) == Fraction(5, 6)"
   ]
  },
  {
   "cell_type": "code",
   "execution_count": 34,
   "metadata": {},
   "outputs": [
    {
     "name": "stdout",
     "output_type": "stream",
     "text": [
      "False\n"
     ]
    }
   ],
   "source": [
    "if Fraction(5, 6) == Fraction(5, 6):\n",
    "    print(\"True\")\n",
    "else:\n",
    "    print('False')"
   ]
  },
  {
   "cell_type": "code",
   "execution_count": 16,
   "metadata": {},
   "outputs": [
    {
     "data": {
      "text/plain": [
       "5/6"
      ]
     },
     "execution_count": 16,
     "metadata": {},
     "output_type": "execute_result"
    }
   ],
   "source": [
    "Fraction(1, 2).add(Fraction(1, 3))"
   ]
  },
  {
   "cell_type": "code",
   "execution_count": 15,
   "metadata": {},
   "outputs": [
    {
     "data": {
      "text/plain": [
       "__main__.Fraction"
      ]
     },
     "execution_count": 15,
     "metadata": {},
     "output_type": "execute_result"
    }
   ],
   "source": [
    "type(Fraction(1, 2).add(Fraction(1, 3)))"
   ]
  }
 ],
 "metadata": {
  "kernelspec": {
   "display_name": "Python 3.9.12 ('base')",
   "language": "python",
   "name": "python3"
  },
  "language_info": {
   "codemirror_mode": {
    "name": "ipython",
    "version": 3
   },
   "file_extension": ".py",
   "mimetype": "text/x-python",
   "name": "python",
   "nbconvert_exporter": "python",
   "pygments_lexer": "ipython3",
   "version": "3.9.12"
  },
  "orig_nbformat": 4,
  "vscode": {
   "interpreter": {
    "hash": "aa1784bfeff960945c80aea6bd6ac4fef92d6e84c0ddcfd84ffff405bb128edf"
   }
  }
 },
 "nbformat": 4,
 "nbformat_minor": 2
}
